{
 "cells": [
  {
   "cell_type": "code",
   "execution_count": 2,
   "id": "8a682c52-e6ed-4865-ac2f-d11318d5b80a",
   "metadata": {},
   "outputs": [
    {
     "name": "stderr",
     "output_type": "stream",
     "text": [
      "/home/normal/.local/lib/python3.12/site-packages/torch/utils/cpp_extension.py:1967: UserWarning: TORCH_CUDA_ARCH_LIST is not set, all archs for visible cards are included for compilation. \n",
      "If this is not desired, please set os.environ['TORCH_CUDA_ARCH_LIST'].\n",
      "  warnings.warn(\n"
     ]
    }
   ],
   "source": [
    "import transformer as kernel_transformer\n",
    "\n",
    "from torch.utils.cpp_extension import load\n",
    "import torch\n",
    "\n",
    "from matplotlib import pyplot as plt\n",
    "trampoline = load(\n",
    "    \"extension\",\n",
    "    sources=[\"trampoline.cu\"],\n",
    "    extra_ldflags=[\"-lnvrtc\", \"-lcuda\"],\n",
    "    extra_cuda_cflags=[\"-g\"],\n",
    ")\n"
   ]
  },
  {
   "cell_type": "code",
   "execution_count": 3,
   "id": "f5fcd1bf-14cf-49bb-9f21-f13dc1c9fea2",
   "metadata": {},
   "outputs": [],
   "source": [
    "\n",
    "#ptx.shfl.sync.down.b32(d, a, i, 31, 0xFFFFFFFF) \n",
    "\n",
    "@kernel_transformer.fragment()\n",
    "def warp_sum(out: \"u32\", a: \"u32\"):\n",
    "    accum: u32 = a \n",
    "    d: u32\n",
    "    i = 16\n",
    "    while i > 0:\n",
    "        ptx.shfl.sync.down.b32(d, accum, i, 31, 0xFFFFFFFF) \n",
    "        accum += d\n",
    "        i //= 2\n",
    "    if u32(\"%laneid\") == 0:\n",
    "        out = accum\n",
    "\n",
    "@kernel_transformer.kernel()\n",
    "def shfl_test(buffer: \"u64\"):\n",
    "    a: u32 = u32(\"%laneid\")\n",
    "    result: u32\n",
    "    warp_sum(kernel_builder, result, a)\n",
    "    \n",
    "    \n",
    "    buffer_global: u64\n",
    "    \n",
    "    tidx: u32 = u32(\"%tid.x\") + u32(\"%ntid.x\") * u32(\"%ctaid.x\")\n",
    "    buffer += tidx * 4\n",
    "    \n",
    "    ptx.cvta.to._global.u64(buffer_global, buffer)\n",
    "    if u32(\"%laneid\") == 0:\n",
    "        ptx.st._global.u32([buffer_global], result)"
   ]
  },
  {
   "cell_type": "code",
   "execution_count": 4,
   "id": "fb5543ee-232e-496c-bb60-eaded5c1a06d",
   "metadata": {},
   "outputs": [
    {
     "name": "stdout",
     "output_type": "stream",
     "text": [
      "tensor([496,   0,   0,   0,   0,   0,   0,   0,   0,   0,   0,   0,   0,   0,\n",
      "          0,   0,   0,   0,   0,   0,   0,   0,   0,   0,   0,   0,   0,   0,\n",
      "          0,   0,   0,   0, 496,   0,   0,   0,   0,   0,   0,   0,   0,   0,\n",
      "          0,   0,   0,   0,   0,   0,   0,   0,   0,   0,   0,   0,   0,   0,\n",
      "          0,   0,   0,   0,   0,   0,   0,   0], dtype=torch.uint32)\n"
     ]
    }
   ],
   "source": [
    "kernel_builder = kernel_transformer.KernelBuilder()\n",
    "shfl_test(kernel_builder)\n",
    "kernel_code = kernel_builder.generate(\"sm_75\")\n",
    "\n",
    "result = torch.zeros((64,), dtype=torch.uint32, device=\"cuda\")\n",
    "\n",
    "wrapper = trampoline.CuModuleWrapper()\n",
    "wrapper.load_ptx_code(kernel_code)\n",
    "\n",
    "wrapper.launch_kernel(\"shfl_test\", (1, 1, 1), (64, 1, 1), (result.data_ptr(),))\n",
    "print(result.cpu())"
   ]
  },
  {
   "cell_type": "code",
   "execution_count": null,
   "id": "21079a4b-ea59-4507-88c6-6f5ed887970d",
   "metadata": {},
   "outputs": [],
   "source": []
  }
 ],
 "metadata": {
  "kernelspec": {
   "display_name": "Python 3 (ipykernel)",
   "language": "python",
   "name": "python3"
  },
  "language_info": {
   "codemirror_mode": {
    "name": "ipython",
    "version": 3
   },
   "file_extension": ".py",
   "mimetype": "text/x-python",
   "name": "python",
   "nbconvert_exporter": "python",
   "pygments_lexer": "ipython3",
   "version": "3.12.4"
  }
 },
 "nbformat": 4,
 "nbformat_minor": 5
}
