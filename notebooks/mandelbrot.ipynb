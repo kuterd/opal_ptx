{
 "cells": [
  {
   "cell_type": "code",
   "execution_count": 4,
   "id": "157b251b-92a7-4a13-9424-0d7f040cfd7d",
   "metadata": {},
   "outputs": [],
   "source": [
    "import torch\n",
    "\n",
    "from opal_ptx import CuModuleWrapper, kernel_transformer\n",
    "from matplotlib import pyplot as plt"
   ]
  },
  {
   "cell_type": "code",
   "execution_count": 5,
   "id": "0bfb7d93-c853-4d42-bc35-f2554b075626",
   "metadata": {},
   "outputs": [],
   "source": [
    "@kernel_transformer.fragment()\n",
    "def mandelbrot(out: \"f32\", c_real: \"f32\", c_imag: \"f32\"):\n",
    "    z_real: f32 = c_real\n",
    "    z_imag: f32 = c_imag\n",
    "\n",
    "    i: s32 = 0\n",
    "    while i < 1000:\n",
    "        z_real2: f32 = z_real * z_real\n",
    "        z_imag2: f32 = z_imag * z_imag;\n",
    "        \n",
    "        if z_real2 + z_imag2 > f32(4.0):\n",
    "            break\n",
    "            \n",
    "        z_imag = f32(2.0) * z_real * z_imag + c_imag\n",
    "        z_real = z_real2 - z_imag2 + c_real\n",
    "        \n",
    "        i += 1\n",
    "    out = i / 1000.0\n",
    "\n",
    "@kernel_transformer.kernel()\n",
    "def mandelbrot_kernel(buffer: \"u64\", width: \"u32\", height: \"u32\"):\n",
    "    tidx: u32 = u32(\"%tid.x\") + u32(\"%ntid.x\") * u32(\"%ctaid.x\")\n",
    "    tidy: u32 = u32(\"%tid.y\") + u32(\"%ntid.y\") * u32(\"%ctaid.y\")\n",
    "    \n",
    "    x_min: f32 = -2.0\n",
    "    x_max: f32 = 1.0\n",
    "    y_min: f32 = -1.5\n",
    "    y_max: f32 = 1.5\n",
    "\n",
    "    c_real: f32 = x_min + tidx * (x_max - x_min) / width\n",
    "    c_imag: f32 = y_min + tidy * (y_max - y_min) / height\n",
    "\n",
    "    buffer += (width * tidy + tidx) * 4\n",
    "    buffer_global: u64   \n",
    "    ptx.cvta.to._global.u64(buffer_global, buffer)\n",
    "\n",
    "    result:f32\n",
    "    mandelbrot(kernel_builder, result, c_real, c_imag)\n",
    "    ptx.st._global.f32([buffer_global], result)\n",
    "        "
   ]
  },
  {
   "cell_type": "code",
   "execution_count": 6,
   "id": "85659fa2-2fe8-454d-9511-d84e7f63f774",
   "metadata": {},
   "outputs": [
    {
     "ename": "TypeError",
     "evalue": "launch_kernel(): incompatible function arguments. The following argument types are supported:\n    1. (self: opal_ptx._C.CuModuleWrapper, arg0: str, arg1: tuple, arg2: tuple, arg3: tuple, arg4: int) -> None\n\nInvoked with: <opal_ptx._C.CuModuleWrapper object at 0x7d7a9c5ab370>, 'mandelbrot_kernel', (32, 32, 1), (32, 32, 1), (137961735716864, 1024, 1024)",
     "output_type": "error",
     "traceback": [
      "\u001b[0;31m---------------------------------------------------------------------------\u001b[0m",
      "\u001b[0;31mTypeError\u001b[0m                                 Traceback (most recent call last)",
      "Cell \u001b[0;32mIn[6], line 17\u001b[0m\n\u001b[1;32m     15\u001b[0m end_event \u001b[38;5;241m=\u001b[39m torch\u001b[38;5;241m.\u001b[39mcuda\u001b[38;5;241m.\u001b[39mEvent(enable_timing\u001b[38;5;241m=\u001b[39m\u001b[38;5;28;01mTrue\u001b[39;00m)\n\u001b[1;32m     16\u001b[0m start_event\u001b[38;5;241m.\u001b[39mrecord()\n\u001b[0;32m---> 17\u001b[0m \u001b[43mwrapper\u001b[49m\u001b[38;5;241;43m.\u001b[39;49m\u001b[43mlaunch_kernel\u001b[49m\u001b[43m(\u001b[49m\u001b[38;5;124;43m\"\u001b[39;49m\u001b[38;5;124;43mmandelbrot_kernel\u001b[39;49m\u001b[38;5;124;43m\"\u001b[39;49m\u001b[43m,\u001b[49m\u001b[43m \u001b[49m\u001b[43m(\u001b[49m\u001b[43mwidth\u001b[49m\u001b[43m \u001b[49m\u001b[38;5;241;43m/\u001b[39;49m\u001b[38;5;241;43m/\u001b[39;49m\u001b[43m \u001b[49m\u001b[43mblock_size_x\u001b[49m\u001b[43m,\u001b[49m\u001b[43m \u001b[49m\u001b[43mheight\u001b[49m\u001b[43m \u001b[49m\u001b[38;5;241;43m/\u001b[39;49m\u001b[38;5;241;43m/\u001b[39;49m\u001b[43m \u001b[49m\u001b[43mblock_size_y\u001b[49m\u001b[43m,\u001b[49m\u001b[43m \u001b[49m\u001b[38;5;241;43m1\u001b[39;49m\u001b[43m)\u001b[49m\u001b[43m,\u001b[49m\u001b[43m \u001b[49m\u001b[43m(\u001b[49m\u001b[43mblock_size_x\u001b[49m\u001b[43m,\u001b[49m\u001b[43m \u001b[49m\u001b[43mblock_size_y\u001b[49m\u001b[43m,\u001b[49m\u001b[43m \u001b[49m\u001b[38;5;241;43m1\u001b[39;49m\u001b[43m)\u001b[49m\u001b[43m,\u001b[49m\u001b[43m \u001b[49m\u001b[43m(\u001b[49m\u001b[43mresult\u001b[49m\u001b[38;5;241;43m.\u001b[39;49m\u001b[43mdata_ptr\u001b[49m\u001b[43m(\u001b[49m\u001b[43m)\u001b[49m\u001b[43m,\u001b[49m\u001b[43m \u001b[49m\u001b[43mwidth\u001b[49m\u001b[43m,\u001b[49m\u001b[43m \u001b[49m\u001b[43mheight\u001b[49m\u001b[43m)\u001b[49m\u001b[43m)\u001b[49m\n\u001b[1;32m     18\u001b[0m end_event\u001b[38;5;241m.\u001b[39mrecord()\n\u001b[1;32m     20\u001b[0m torch\u001b[38;5;241m.\u001b[39mcuda\u001b[38;5;241m.\u001b[39msynchronize()\n",
      "\u001b[0;31mTypeError\u001b[0m: launch_kernel(): incompatible function arguments. The following argument types are supported:\n    1. (self: opal_ptx._C.CuModuleWrapper, arg0: str, arg1: tuple, arg2: tuple, arg3: tuple, arg4: int) -> None\n\nInvoked with: <opal_ptx._C.CuModuleWrapper object at 0x7d7a9c5ab370>, 'mandelbrot_kernel', (32, 32, 1), (32, 32, 1), (137961735716864, 1024, 1024)"
     ]
    }
   ],
   "source": [
    "kernel_builder = kernel_transformer.KernelBuilder()\n",
    "mandelbrot_kernel(kernel_builder)\n",
    "kernel_code = kernel_builder.generate()\n",
    "\n",
    "width, height = 1024, 1024\n",
    "\n",
    "result = torch.zeros((width, height), dtype=torch.float32, device=\"cuda\")\n",
    "\n",
    "wrapper = CuModuleWrapper()\n",
    "wrapper.load_ptx_code(kernel_code)\n",
    "\n",
    "block_size_x = 32\n",
    "block_size_y = 32\n",
    "start_event = torch.cuda.Event(enable_timing=True)\n",
    "end_event = torch.cuda.Event(enable_timing=True)\n",
    "start_event.record()\n",
    "wrapper.launch_kernel(\"mandelbrot_kernel\", (width // block_size_x, height // block_size_y, 1), (block_size_x, block_size_y, 1), (result.data_ptr(), width, height), 0)\n",
    "end_event.record()\n",
    "\n",
    "torch.cuda.synchronize()\n",
    "\n",
    "# Calculate the elapsed time\n",
    "elapsed_time_ms = start_event.elapsed_time(end_event)\n",
    "print(elapsed_time_ms)\n",
    "plt.imshow(result.cpu())"
   ]
  }
 ],
 "metadata": {
  "kernelspec": {
   "display_name": "Python 3 (ipykernel)",
   "language": "python",
   "name": "python3"
  },
  "language_info": {
   "codemirror_mode": {
    "name": "ipython",
    "version": 3
   },
   "file_extension": ".py",
   "mimetype": "text/x-python",
   "name": "python",
   "nbconvert_exporter": "python",
   "pygments_lexer": "ipython3",
   "version": "3.12.4"
  }
 },
 "nbformat": 4,
 "nbformat_minor": 5
}
