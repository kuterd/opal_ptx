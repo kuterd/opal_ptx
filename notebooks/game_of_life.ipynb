{
 "cells": [
  {
   "cell_type": "code",
   "execution_count": 1,
   "id": "0d132dcb-a546-4e87-a8cd-a3e7a9b177ec",
   "metadata": {},
   "outputs": [],
   "source": [
    "import torch\n",
    "\n",
    "from opal_ptx import build_kernel, kernel_transformer\n",
    "from matplotlib import pyplot as plt"
   ]
  },
  {
   "cell_type": "code",
   "execution_count": 84,
   "id": "98e224dd-ba06-47de-92df-9e308493d64a",
   "metadata": {},
   "outputs": [
    {
     "name": "stdout",
     "output_type": "stream",
     "text": [
      "KERNEL BUILDER DEBUG OUTPUT ENABLED\n"
     ]
    }
   ],
   "source": [
    "@kernel_transformer.kernel()\n",
    "def game_of_life_next(currentFrame_: \"u64\", nextFrame_: \"u64\", width: \"s32\", height: \"s32\"):\n",
    "    x: s32 = u32(\"%tid.x\") + u32(\"%ntid.x\") * u32(\"%ctaid.x\")\n",
    "    y: s32 = u32(\"%tid.y\") + u32(\"%ntid.y\") * u32(\"%ctaid.y\")\n",
    "\n",
    "    currentFrame: u64\n",
    "    ptx.cvta.to._global.u64(currentFrame, currentFrame_)\n",
    "    nextFrame: u64\n",
    "    ptx.cvta.to._global.u64(nextFrame, nextFrame_)\n",
    "    \n",
    "    if (x >= width) | (y >= height):\n",
    "        ptx.exit()\n",
    "    \n",
    "    liveNeighbors: u32 = 0\n",
    "    for j in range(-1, 2, 1): # these are just regular python loops and the contents get inlined btw.\n",
    "        for i in range(-1, 2, 1):\n",
    "            if i == 0 and j == 0:\n",
    "                continue\n",
    "            nX:u32 = (x + s32(i) + width) % width\n",
    "            nY:u32 = (y + s32(j) + height) % height\n",
    "\n",
    "            nPtr: u64 = currentFrame + nX + nY * width \n",
    "            val: u32\n",
    "            ptx.ld.u8._global(val, [nPtr])\n",
    "            if val > 0:\n",
    "                liveNeighbors += 1\n",
    "\n",
    "    cPtr: u64 = currentFrame + y * width + x\n",
    "    val: u32\n",
    "    ptx.ld.u8._global(val, [cPtr])\n",
    "    \n",
    "    nextAlive: u32 = 0\n",
    "    if val > 0:\n",
    "        nextAlive = (liveNeighbors == 2) | (liveNeighbors == 3)\n",
    "    else:\n",
    "        nextAlive = liveNeighbors == 3\n",
    "    \n",
    "    nextPtr: u64 = nextFrame + (x + y * width) \n",
    "    val = (nextAlive & 1) * 255\n",
    "    ptx.st.u8._global([nextPtr], val) \n",
    "    \n",
    "\n",
    "game_of_life_next_ = build_kernel(game_of_life_next, debug=False)\n"
   ]
  },
  {
   "cell_type": "code",
   "execution_count": 93,
   "id": "a177215f-5482-463b-81bf-de712f73bab3",
   "metadata": {},
   "outputs": [
    {
     "name": "stdout",
     "output_type": "stream",
     "text": [
      "torch.Size([320, 320]) torch.uint8\n",
      "torch.Size([201, 320, 320])\n"
     ]
    },
    {
     "data": {
      "text/html": [
       "<img width=\"1000px\" style=\"image-rendering: pixelated;\" height=\"1000px\" src=\"animated.gif\">"
      ],
      "text/plain": [
       "<IPython.core.display.HTML object>"
      ]
     },
     "execution_count": 93,
     "metadata": {},
     "output_type": "execute_result"
    }
   ],
   "source": [
    "WIDTH = 32 * 10\n",
    "HEIGHT = 32 * 10\n",
    "currentFrame = ((torch.rand((HEIGHT, WIDTH), device=\"cuda\") < 0.45).float() * 255).to(torch.uint8)\n",
    "\n",
    "nextFrame = torch.zeros((HEIGHT, WIDTH), dtype=torch.uint8, device=\"cuda\")\n",
    "print(currentFrame.shape, currentFrame.dtype)\n",
    "frames = [currentFrame.clone()]\n",
    "\n",
    "for i in range(200):\n",
    "    game_of_life_next_((WIDTH//32, HEIGHT//32, 1), (32, 32, 1), (currentFrame.data_ptr(), nextFrame.data_ptr(), WIDTH, HEIGHT), 0) \n",
    "    frames.append(nextFrame.clone())\n",
    "    currentFrame = nextFrame\n",
    "    nextFrame = torch.zeros((HEIGHT, WIDTH), dtype=torch.uint8, device=\"cuda\")\n",
    "    \n",
    "frames = torch.stack(frames)\n",
    "\n",
    "import numpy as np\n",
    "from PIL import Image\n",
    "from IPython.display import HTML\n",
    "\n",
    "cpu_frames = frames.cpu().numpy()\n",
    "print(frames.shape)\n",
    "cpu_frames = [Image.fromarray(frame.astype('uint8')) for frame in cpu_frames]\n",
    "\n",
    "gif_path = 'animated.gif'\n",
    "cpu_frames[0].save(gif_path, save_all=True, append_images=cpu_frames[1:], duration=100, loop=1)\n",
    "\n",
    "from IPython.display import HTML\n",
    "HTML(f'<img width=\"1000px\" style=\"image-rendering: pixelated;\" height=\"1000px\" src=\"{gif_path}\">')"
   ]
  }
 ],
 "metadata": {
  "kernelspec": {
   "display_name": "Python 3 (ipykernel)",
   "language": "python",
   "name": "python3"
  },
  "language_info": {
   "codemirror_mode": {
    "name": "ipython",
    "version": 3
   },
   "file_extension": ".py",
   "mimetype": "text/x-python",
   "name": "python",
   "nbconvert_exporter": "python",
   "pygments_lexer": "ipython3",
   "version": "3.12.4"
  }
 },
 "nbformat": 4,
 "nbformat_minor": 5
}
