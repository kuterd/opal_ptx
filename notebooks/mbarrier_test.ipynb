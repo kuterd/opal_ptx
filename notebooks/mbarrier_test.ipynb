{
 "cells": [
  {
   "cell_type": "code",
   "execution_count": 2,
   "id": "b5dd497a-50bb-4ddf-8e0a-be0defec9b2d",
   "metadata": {},
   "outputs": [],
   "source": [
    "from opal_ptx import CuModuleWrapper, kernel_transformer\n",
    "\n",
    "from torch.utils.cpp_extension import load\n",
    "import torch\n",
    "\n",
    "from matplotlib import pyplot as pl\n"
   ]
  },
  {
   "cell_type": "code",
   "execution_count": 3,
   "id": "cbdafddc-3a53-4fe0-b77e-59c93fc8aacd",
   "metadata": {},
   "outputs": [],
   "source": [
    "\n",
    "@kernel_transformer.kernel()\n",
    "def mbarrier_test(buffer: \"u64\"):\n",
    "    shMem: shared(u64, 1)\n",
    "    \n",
    "    #r1: u32 = 32\n",
    "    ptx.mbarrier.init.shared.b64([shMem], 32)\n",
    "    ptx.mbarrier.init.shared.b64 ([shMem], 1);\n",
    "\n",
    "    completed: pred = 0 \n",
    "    while completed == 0:\n",
    "        ptx.mbarrier.try_wait.shared.b64(completed, [shMem], 1)\n",
    "    \n",
    "    buffer_global: u64\n",
    "    ptx.cvta.to._global.u64(buffer_global, buffer)\n",
    "    ptx.st._global.f32([buffer_global], 1.0)      \n"
   ]
  },
  {
   "cell_type": "code",
   "execution_count": null,
   "id": "08a1fe83-1e62-48f5-a513-d3c0709dd3d1",
   "metadata": {},
   "outputs": [],
   "source": [
    "kernel_builder = kernel_transformer.KernelBuilder()\n",
    "mbarrier_test(kernel_builder)\n",
    "kernel_code = kernel_builder.generate()\n",
    "\n",
    "width, height = 1024, 1024\n",
    "\n",
    "result = torch.zeros(32, dtype=torch.float32, device=\"cuda\")\n",
    "\n",
    "wrapper = CuModuleWrapper()\n",
    "wrapper.load_ptx_code(kernel_code)\n",
    "\n",
    "wrapper.launch_kernel(\"mandelbrot\", (1, 1, 1), (32, 1, 1), (result.data_ptr(), width, height))\n"
   ]
  }
 ],
 "metadata": {
  "kernelspec": {
   "display_name": "Python 3 (ipykernel)",
   "language": "python",
   "name": "python3"
  },
  "language_info": {
   "codemirror_mode": {
    "name": "ipython",
    "version": 3
   },
   "file_extension": ".py",
   "mimetype": "text/x-python",
   "name": "python",
   "nbconvert_exporter": "python",
   "pygments_lexer": "ipython3",
   "version": "3.12.4"
  }
 },
 "nbformat": 4,
 "nbformat_minor": 5
}
